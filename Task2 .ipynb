{
 "cells": [
  {
   "cell_type": "code",
   "execution_count": 1,
   "id": "2848c51f-e766-4c48-8bab-50b9ce204f46",
   "metadata": {},
   "outputs": [],
   "source": [
    "import numpy as np"
   ]
  },
  {
   "cell_type": "code",
   "execution_count": 2,
   "id": "ecfe7c87-f2ad-44d2-8f64-8a20e74c37dc",
   "metadata": {},
   "outputs": [],
   "source": [
    "import matplotlib.pyplot as plt"
   ]
  },
  {
   "cell_type": "code",
   "execution_count": 3,
   "id": "f759478c-f6fc-47e8-a4a3-631c825e3657",
   "metadata": {},
   "outputs": [],
   "source": [
    "import tensorflow as tf"
   ]
  },
  {
   "cell_type": "code",
   "execution_count": 4,
   "id": "8f20c781-3200-4a9e-9deb-c34acfbd1b91",
   "metadata": {},
   "outputs": [],
   "source": [
    "from tensorflow import keras"
   ]
  },
  {
   "cell_type": "code",
   "execution_count": 5,
   "id": "e3bb0c42-6bca-4cd4-b156-5edbf8adb5b0",
   "metadata": {},
   "outputs": [],
   "source": [
    "from tensorflow.keras import layers"
   ]
  },
  {
   "cell_type": "code",
   "execution_count": 7,
   "id": "ab2edbd3-b93c-4736-9b46-77db192ddff3",
   "metadata": {},
   "outputs": [],
   "source": [
    "generator = keras.Sequential([\n",
    "    layers.Dense(128, activation='relu', input_shape=(101,)),\n",
    "    layers.Dense(28 * 28, activation='sigmoid'),\n",
    "    layers.Reshape((28, 28))\n",
    "])"
   ]
  },
  {
   "cell_type": "code",
   "execution_count": 9,
   "id": "f26904ab-aafa-472e-9c6c-6f9aabba8e01",
   "metadata": {},
   "outputs": [],
   "source": [
    "discriminator = keras.Sequential([\n",
    "    keras.Input(shape=(28, 28)),\n",
    "    layers.Flatten(),\n",
    "    layers.Dense(128, activation='relu'),\n",
    "    layers.Dense(1, activation='sigmoid')\n",
    "])\n"
   ]
  },
  {
   "cell_type": "code",
   "execution_count": 10,
   "id": "cabeed6f-dae9-4942-8615-8ce20a4a39f6",
   "metadata": {},
   "outputs": [],
   "source": [
    "discriminator.compile(loss='binary_crossentropy', optimizer='adam', metrics=['accuracy'])\n"
   ]
  },
  {
   "cell_type": "code",
   "execution_count": 11,
   "id": "3635a15a-9632-45b9-95e4-3d06e3553f30",
   "metadata": {},
   "outputs": [],
   "source": [
    "noise_input = layers.Input(shape=(100,))\n",
    "label_input = layers.Input(shape=(1,))\n",
    "merged_input = layers.Concatenate()([noise_input, label_input])\n",
    "generated_image = generator(merged_input)\n",
    "gan_output = discriminator(generated_image)\n",
    "\n",
    "gan = keras.Model([noise_input, label_input], gan_output)\n",
    "gan.compile(loss='binary_crossentropy', optimizer='adam')"
   ]
  },
  {
   "cell_type": "code",
   "execution_count": 12,
   "id": "13bad5b1-00b2-4652-9398-7da85115f1d0",
   "metadata": {},
   "outputs": [],
   "source": [
    "gan = keras.Model([noise_input, label_input], gan_output)\n",
    "gan.compile(loss='binary_crossentropy', optimizer='adam')\n"
   ]
  },
  {
   "cell_type": "code",
   "execution_count": 15,
   "id": "2c4b0afb-c695-44dc-bf93-ca9531edaf02",
   "metadata": {},
   "outputs": [
    {
     "name": "stdout",
     "output_type": "stream",
     "text": [
      "\u001b[1m1/1\u001b[0m \u001b[32m━━━━━━━━━━━━━━━━━━━━\u001b[0m\u001b[37m\u001b[0m \u001b[1m0s\u001b[0m 31ms/step\n"
     ]
    },
    {
     "data": {
      "image/png": "[encoded data removed]",
      "text/plain": [
       "<Figure size 640x480 with 1 Axes>"
      ]
     },
     "metadata": {},
     "output_type": "display_data"
    }
   ],
   "source": [
    "noise = np.random.randn(1, 100)\n",
    "label = np.array([[1]]) \n",
    "img = generator.predict(np.concatenate([noise, label], axis=1))\n",
    "\n",
    "plt.imshow(img[0], cmap='gray')\n",
    "plt.show()"
   ]
  },
  {
   "cell_type": "code",
   "execution_count": null,
   "id": "c46fbfc2-e1e6-462d-8d37-2aa11cb09ca6",
   "metadata": {},
   "outputs": [],
   "source": []
  }
 ],
 "metadata": {
  "kernelspec": {
   "display_name": "Python 3 (ipykernel)",
   "language": "python",
   "name": "python3"
  },
  "language_info": {
   "codemirror_mode": {
    "name": "ipython",
    "version": 3
   },
   "file_extension": ".py",
   "mimetype": "text/x-python",
   "name": "python",
   "nbconvert_exporter": "python",
   "pygments_lexer": "ipython3",
   "version": "3.11.7"
  }
 },
 "nbformat": 4,
 "nbformat_minor": 5
}
